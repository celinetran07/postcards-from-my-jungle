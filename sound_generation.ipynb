{
  "cells": [
    {
      "cell_type": "code",
      "execution_count": null,
      "metadata": {
        "id": "7l6UK2VtpesK"
      },
      "outputs": [],
      "source": [
        "!pip install torchsde\n",
        "from google.colab import userdata  # Import userdata to access secrets\n",
        "from huggingface_hub import login\n",
        "import torch\n",
        "import soundfile as sf\n",
        "from diffusers import StableAudioPipeline\n",
        "from IPython.display import Audio  # Import the Audio module for playback\n",
        "\n",
        "# Retrieve the Hugging Face token from Colab Secrets\n",
        "try:\n",
        "    huggingface_token = userdata.get('HF_TOKEN')\n",
        "except Exception as e:\n",
        "    raise ValueError(\"Please ensure the 'my_token' secret is set in Colab Secrets.\") from e\n",
        "\n",
        "# Log in to Hugging Face using the token\n",
        "login(token=huggingface_token)\n",
        "\n",
        "# Load the StableAudioPipeline\n",
        "pipe = StableAudioPipeline.from_pretrained(\"stabilityai/stable-audio-open-1.0\", torch_dtype=torch.float16)\n",
        "pipe = pipe.to(\"cuda\")\n",
        "\n",
        "# Define the prompts\n",
        "prompt = \"Elephant noises mix with wildlife noise\"\n",
        "negative_prompt = \"mechanical, artificial, synthetic, human voice, music, rhythm, Low quality.\"\n",
        "\n",
        "# Set the seed for the generator\n",
        "generator = torch.Generator(\"cuda\")\n",
        "\n",
        "# Run the generation\n",
        "audio = pipe(\n",
        "    prompt,\n",
        "    negative_prompt=negative_prompt,\n",
        "    num_inference_steps=200,\n",
        "    audio_end_in_s=12.0,\n",
        "    num_waveforms_per_prompt=3,\n",
        "    generator=generator,\n",
        ").audios\n",
        "\n",
        "# Save the generated audio to a file\n",
        "output = audio[0].T.float().cpu().numpy()\n",
        "sf.write(\"output.wav\", output, pipe.vae.sampling_rate)\n",
        "\n",
        "# Play the audio in Colab\n",
        "Audio(\"output.wav\")"
      ]
    }
  ],
  "metadata": {
    "accelerator": "GPU",
    "colab": {
      "gpuType": "T4",
      "provenance": []
    },
    "kernelspec": {
      "display_name": "Python 3",
      "name": "python3"
    },
    "language_info": {
      "name": "python"
    }
  },
  "nbformat": 4,
  "nbformat_minor": 0
}